{
  "nbformat": 4,
  "nbformat_minor": 0,
  "metadata": {
    "colab": {
      "provenance": [],
      "authorship_tag": "ABX9TyPPg6ru5/KWluI1+k8PpIGN",
      "include_colab_link": true
    },
    "kernelspec": {
      "name": "python3",
      "display_name": "Python 3"
    },
    "language_info": {
      "name": "python"
    }
  },
  "cells": [
    {
      "cell_type": "markdown",
      "metadata": {
        "id": "view-in-github",
        "colab_type": "text"
      },
      "source": [
        "<a href=\"https://colab.research.google.com/github/bradleymclellan/stc510/blob/main/Exploratory_Data_Analysis_Proficient.ipynb\" target=\"_parent\"><img src=\"https://colab.research.google.com/assets/colab-badge.svg\" alt=\"Open In Colab\"/></a>"
      ]
    },
    {
      "cell_type": "code",
      "execution_count": 1,
      "metadata": {
        "id": "8NiqZ08U7NmX"
      },
      "outputs": [],
      "source": [
        "import math\n",
        "import random\n",
        "from collections import defaultdict\n",
        "from pprint import pprint\n",
        "from sklearn.feature_extraction.text import CountVectorizer\n",
        "from sklearn.model_selection import train_test_split\n",
        "from sklearn.naive_bayes import MultinomialNB\n",
        "from sklearn.metrics import accuracy_score, f1_score, confusion_matrix\n",
        "from sklearn.model_selection import ShuffleSplit\n",
        "from sklearn.naive_bayes import BernoulliNB\n",
        "from sklearn.linear_model import LogisticRegression, SGDClassifier\n",
        "from sklearn.svm import LinearSVC\n",
        "from sklearn.ensemble import RandomForestClassifier\n",
        "from sklearn.neural_network import MLPClassifier\n",
        "from sklearn.ensemble import VotingClassifier\n",
        "from imblearn.over_sampling import SMOTE\n",
        "\n",
        "# Prevent future/deprecation warnings from showing in output\n",
        "import warnings\n",
        "warnings.filterwarnings(action='ignore')\n",
        "\n",
        "import seaborn as sns\n",
        "import matplotlib.pyplot as plt\n",
        "import numpy as np\n",
        "import pandas as pd\n",
        "\n",
        "# Set global styles for plots\n",
        "sns.set_style(style='white')\n",
        "sns.set_context(context='notebook', font_scale=1.3, rc={'figure.figsize': (16,9)})"
      ]
    },
    {
      "cell_type": "code",
      "source": [
        "# Read in data\n",
        "df = pd.read_csv('reddit_ai_headlines.csv', encoding='utf-8')\n",
        "df.head()"
      ],
      "metadata": {
        "colab": {
          "base_uri": "https://localhost:8080/",
          "height": 206
        },
        "id": "FiLbINxK7tGp",
        "outputId": "9814635d-6ba0-4e51-e87d-39594c95ab23"
      },
      "execution_count": 2,
      "outputs": [
        {
          "output_type": "execute_result",
          "data": {
            "text/plain": [
              "                                            headline  label\n",
              "0  Double Suncycle Miracle: Watch A Beautiful H.r...      1\n",
              "1  A.I. Rick & Morty Analyzing Real-Time A.I. Gen...      0\n",
              "2  StoryRobot - A Twitch.tv livestream where chat...      0\n",
              "3  A.I. Fighter Jets show an Autonomous Military ...      0\n",
              "4  I made an AI chatbot app! Come check it out :)...      1"
            ],
            "text/html": [
              "\n",
              "  <div id=\"df-fd708c29-b7e3-4850-87e3-0ac7292b0c86\">\n",
              "    <div class=\"colab-df-container\">\n",
              "      <div>\n",
              "<style scoped>\n",
              "    .dataframe tbody tr th:only-of-type {\n",
              "        vertical-align: middle;\n",
              "    }\n",
              "\n",
              "    .dataframe tbody tr th {\n",
              "        vertical-align: top;\n",
              "    }\n",
              "\n",
              "    .dataframe thead th {\n",
              "        text-align: right;\n",
              "    }\n",
              "</style>\n",
              "<table border=\"1\" class=\"dataframe\">\n",
              "  <thead>\n",
              "    <tr style=\"text-align: right;\">\n",
              "      <th></th>\n",
              "      <th>headline</th>\n",
              "      <th>label</th>\n",
              "    </tr>\n",
              "  </thead>\n",
              "  <tbody>\n",
              "    <tr>\n",
              "      <th>0</th>\n",
              "      <td>Double Suncycle Miracle: Watch A Beautiful H.r...</td>\n",
              "      <td>1</td>\n",
              "    </tr>\n",
              "    <tr>\n",
              "      <th>1</th>\n",
              "      <td>A.I. Rick &amp; Morty Analyzing Real-Time A.I. Gen...</td>\n",
              "      <td>0</td>\n",
              "    </tr>\n",
              "    <tr>\n",
              "      <th>2</th>\n",
              "      <td>StoryRobot - A Twitch.tv livestream where chat...</td>\n",
              "      <td>0</td>\n",
              "    </tr>\n",
              "    <tr>\n",
              "      <th>3</th>\n",
              "      <td>A.I. Fighter Jets show an Autonomous Military ...</td>\n",
              "      <td>0</td>\n",
              "    </tr>\n",
              "    <tr>\n",
              "      <th>4</th>\n",
              "      <td>I made an AI chatbot app! Come check it out :)...</td>\n",
              "      <td>1</td>\n",
              "    </tr>\n",
              "  </tbody>\n",
              "</table>\n",
              "</div>\n",
              "      <button class=\"colab-df-convert\" onclick=\"convertToInteractive('df-fd708c29-b7e3-4850-87e3-0ac7292b0c86')\"\n",
              "              title=\"Convert this dataframe to an interactive table.\"\n",
              "              style=\"display:none;\">\n",
              "        \n",
              "  <svg xmlns=\"http://www.w3.org/2000/svg\" height=\"24px\"viewBox=\"0 0 24 24\"\n",
              "       width=\"24px\">\n",
              "    <path d=\"M0 0h24v24H0V0z\" fill=\"none\"/>\n",
              "    <path d=\"M18.56 5.44l.94 2.06.94-2.06 2.06-.94-2.06-.94-.94-2.06-.94 2.06-2.06.94zm-11 1L8.5 8.5l.94-2.06 2.06-.94-2.06-.94L8.5 2.5l-.94 2.06-2.06.94zm10 10l.94 2.06.94-2.06 2.06-.94-2.06-.94-.94-2.06-.94 2.06-2.06.94z\"/><path d=\"M17.41 7.96l-1.37-1.37c-.4-.4-.92-.59-1.43-.59-.52 0-1.04.2-1.43.59L10.3 9.45l-7.72 7.72c-.78.78-.78 2.05 0 2.83L4 21.41c.39.39.9.59 1.41.59.51 0 1.02-.2 1.41-.59l7.78-7.78 2.81-2.81c.8-.78.8-2.07 0-2.86zM5.41 20L4 18.59l7.72-7.72 1.47 1.35L5.41 20z\"/>\n",
              "  </svg>\n",
              "      </button>\n",
              "      \n",
              "  <style>\n",
              "    .colab-df-container {\n",
              "      display:flex;\n",
              "      flex-wrap:wrap;\n",
              "      gap: 12px;\n",
              "    }\n",
              "\n",
              "    .colab-df-convert {\n",
              "      background-color: #E8F0FE;\n",
              "      border: none;\n",
              "      border-radius: 50%;\n",
              "      cursor: pointer;\n",
              "      display: none;\n",
              "      fill: #1967D2;\n",
              "      height: 32px;\n",
              "      padding: 0 0 0 0;\n",
              "      width: 32px;\n",
              "    }\n",
              "\n",
              "    .colab-df-convert:hover {\n",
              "      background-color: #E2EBFA;\n",
              "      box-shadow: 0px 1px 2px rgba(60, 64, 67, 0.3), 0px 1px 3px 1px rgba(60, 64, 67, 0.15);\n",
              "      fill: #174EA6;\n",
              "    }\n",
              "\n",
              "    [theme=dark] .colab-df-convert {\n",
              "      background-color: #3B4455;\n",
              "      fill: #D2E3FC;\n",
              "    }\n",
              "\n",
              "    [theme=dark] .colab-df-convert:hover {\n",
              "      background-color: #434B5C;\n",
              "      box-shadow: 0px 1px 3px 1px rgba(0, 0, 0, 0.15);\n",
              "      filter: drop-shadow(0px 1px 2px rgba(0, 0, 0, 0.3));\n",
              "      fill: #FFFFFF;\n",
              "    }\n",
              "  </style>\n",
              "\n",
              "      <script>\n",
              "        const buttonEl =\n",
              "          document.querySelector('#df-fd708c29-b7e3-4850-87e3-0ac7292b0c86 button.colab-df-convert');\n",
              "        buttonEl.style.display =\n",
              "          google.colab.kernel.accessAllowed ? 'block' : 'none';\n",
              "\n",
              "        async function convertToInteractive(key) {\n",
              "          const element = document.querySelector('#df-fd708c29-b7e3-4850-87e3-0ac7292b0c86');\n",
              "          const dataTable =\n",
              "            await google.colab.kernel.invokeFunction('convertToInteractive',\n",
              "                                                     [key], {});\n",
              "          if (!dataTable) return;\n",
              "\n",
              "          const docLinkHtml = 'Like what you see? Visit the ' +\n",
              "            '<a target=\"_blank\" href=https://colab.research.google.com/notebooks/data_table.ipynb>data table notebook</a>'\n",
              "            + ' to learn more about interactive tables.';\n",
              "          element.innerHTML = '';\n",
              "          dataTable['output_type'] = 'display_data';\n",
              "          await google.colab.output.renderOutput(dataTable, element);\n",
              "          const docLink = document.createElement('div');\n",
              "          docLink.innerHTML = docLinkHtml;\n",
              "          element.appendChild(docLink);\n",
              "        }\n",
              "      </script>\n",
              "    </div>\n",
              "  </div>\n",
              "  "
            ]
          },
          "metadata": {},
          "execution_count": 2
        }
      ]
    },
    {
      "cell_type": "code",
      "source": [
        "# Remove the neutral (0) headlines labels to focus on only classifying positive or negative\n",
        "df = df[df.label != 0]\n",
        "df.label.value_counts()"
      ],
      "metadata": {
        "colab": {
          "base_uri": "https://localhost:8080/"
        },
        "id": "ILDiKbt773v3",
        "outputId": "c9d61043-9cad-4aee-e347-38e701ea9594"
      },
      "execution_count": 3,
      "outputs": [
        {
          "output_type": "execute_result",
          "data": {
            "text/plain": [
              " 1    345\n",
              "-1    104\n",
              "Name: label, dtype: int64"
            ]
          },
          "metadata": {},
          "execution_count": 3
        }
      ]
    },
    {
      "cell_type": "code",
      "source": [
        "# Transform the headlines of words into numbers and apply vectorization\n",
        "vect = CountVectorizer(max_features=1000, binary=True)\n",
        "X = vect.fit_transform(df.headline)\n",
        "\n",
        "X.toarray()"
      ],
      "metadata": {
        "id": "HQwPSvja8X1H"
      },
      "execution_count": null,
      "outputs": []
    },
    {
      "cell_type": "code",
      "source": [
        "# Split into train and test sets\n",
        "X = df.headline\n",
        "y = df.label\n",
        "\n",
        "X_train, X_test, y_train, y_test = train_test_split(X, y, test_size=0.2)"
      ],
      "metadata": {
        "id": "k5JUD8TQ8o3e"
      },
      "execution_count": 5,
      "outputs": []
    },
    {
      "cell_type": "code",
      "source": [
        "# Fit the vectorizer to the training data\n",
        "vect = CountVectorizer(max_features=1000, binary=True)\n",
        "\n",
        "X_train_vect = vect.fit_transform(X_train)"
      ],
      "metadata": {
        "id": "TpYe9dmv8vXW"
      },
      "execution_count": 6,
      "outputs": []
    },
    {
      "cell_type": "code",
      "source": [
        "counts = df.label.value_counts()\n",
        "print(counts)\n",
        "\n",
        "print(\"\\nPredicting only -1 = {:.2f}% accuracy\".format(counts[-1] / sum(counts) * 100))"
      ],
      "metadata": {
        "id": "Wwt8I9AV8zYX"
      },
      "execution_count": null,
      "outputs": []
    },
    {
      "cell_type": "code",
      "source": [
        "#Balance the training data\n",
        "oversample = SMOTE()\n",
        "\n",
        "X_train_res, y_train_res = oversample.fit_resample(X_train_vect, y_train)"
      ],
      "metadata": {
        "id": "P7VFHfhX9LeW"
      },
      "execution_count": 8,
      "outputs": []
    },
    {
      "cell_type": "code",
      "source": [
        "unique, counts = np.unique(y_train_res, return_counts=True)\n",
        "print(list(zip(unique, counts)))"
      ],
      "metadata": {
        "id": "b6CJKYAo98gu"
      },
      "execution_count": null,
      "outputs": []
    },
    {
      "cell_type": "code",
      "source": [
        "#Instantiate a Multinomial Naive Bayes classifier\n",
        "nb = MultinomialNB()\n",
        "\n",
        "nb.fit(X_train_res, y_train_res)\n",
        "\n",
        "nb.score(X_train_res, y_train_res)"
      ],
      "metadata": {
        "id": "0eKZx5Z7-Dr-"
      },
      "execution_count": null,
      "outputs": []
    },
    {
      "cell_type": "code",
      "source": [
        "# Vectorize the test data\n",
        "X_test_vect = vect.transform(X_test)\n",
        "\n",
        "y_pred = nb.predict(X_test_vect)\n",
        "\n",
        "y_pred"
      ],
      "metadata": {
        "id": "Z751HxaT-j1w"
      },
      "execution_count": null,
      "outputs": []
    },
    {
      "cell_type": "code",
      "source": [
        "# Calculate the accuracy of the classifier\n",
        "print(\"Accuracy: {:.2f}%\".format(accuracy_score(y_test, y_pred) * 100))\n",
        "print(\"\\nF1 Score: {:.2f}\".format(f1_score(y_test, y_pred) * 100))\n",
        "print(\"\\nCOnfusion Matrix:\\n\", confusion_matrix(y_test, y_pred))"
      ],
      "metadata": {
        "id": "oCk_ZrLc-pSZ"
      },
      "execution_count": null,
      "outputs": []
    },
    {
      "cell_type": "code",
      "source": [
        "# Cross Validation\n",
        "X = df.headline\n",
        "y = df.label\n",
        "\n",
        "ss = ShuffleSplit(n_splits=10, test_size=0.2)\n",
        "oversample = SMOTE()\n",
        "\n",
        "accs = []\n",
        "f1s = []\n",
        "cms = []\n",
        "\n",
        "for train_index, test_index in ss.split(X):\n",
        "    \n",
        "    X_train, X_test = X.iloc[train_index], X.iloc[test_index]\n",
        "    y_train, y_test = y.iloc[train_index], y.iloc[test_index]\n",
        "    \n",
        "    # Fit vectorizer and transform X train, then transform X test\n",
        "    X_train_vect = vect.fit_transform(X_train)\n",
        "    X_test_vect = vect.transform(X_test)\n",
        "    \n",
        "    # Oversample\n",
        "    X_train_res, y_train_res = oversample.fit_resample(X_train_vect, y_train)\n",
        "    \n",
        "    # Fit Naive Bayes on the vectorized X with y train labels, \n",
        "    # then predict new y labels using X test\n",
        "    nb.fit(X_train_res, y_train_res)\n",
        "    y_pred = nb.predict(X_test_vect)\n",
        "    \n",
        "    # Determine test set accuracy and f1 score on this fold using the true y labels and predicted y labels\n",
        "    accs.append(accuracy_score(y_test, y_pred))\n",
        "    f1s.append(f1_score(y_test, y_pred))\n",
        "    cms.append(confusion_matrix(y_test, y_pred))\n",
        "    \n",
        "print(\"\\nAverage accuracy across folds: {:.2f}%\".format(sum(accs) / len(accs) * 100))\n",
        "print(\"\\nAverage F1 score across folds: {:.2f}%\".format(sum(f1s) / len(f1s) * 100))\n",
        "print(\"\\nAverage Confusion Matrix across folds: \\n {}\".format(sum(cms) / len(cms)))"
      ],
      "metadata": {
        "id": "rIU1kLWc-5XY"
      },
      "execution_count": null,
      "outputs": []
    },
    {
      "cell_type": "code",
      "source": [
        "# Plot the confusion matrix\n",
        "fig, (ax1, ax2) = plt.subplots(2, 1, sharex=True, figsize=(16,9))\n",
        "\n",
        "acc_scores = [round(a * 100, 1) for a in accs]\n",
        "f1_scores = [round(f * 100, 2) for f in f1s]\n",
        "\n",
        "x1 = np.arange(len(acc_scores))\n",
        "x2 = np.arange(len(f1_scores))\n",
        "\n",
        "ax1.bar(x1, acc_scores)\n",
        "ax2.bar(x2, f1_scores, color='#559ebf')\n",
        "\n",
        "# Place values on top of bars\n",
        "for i, v in enumerate(list(zip(acc_scores, f1_scores))):\n",
        "    ax1.text(i - 0.25, v[0] + 2, str(v[0]) + '%')\n",
        "    ax2.text(i - 0.25, v[1] + 2, str(v[1]))\n",
        "\n",
        "ax1.set_ylabel('Accuracy (%)')\n",
        "ax1.set_title('Naive Bayes')\n",
        "ax1.set_ylim([0, 100])\n",
        "\n",
        "ax2.set_ylabel('F1 Score')\n",
        "ax2.set_xlabel('Runs')\n",
        "ax2.set_ylim([0, 100])\n",
        "\n",
        "sns.despine(bottom=True, left=True)  # Remove the ticks on axes for cleaner presentation\n",
        "\n",
        "plt.show()"
      ],
      "metadata": {
        "id": "L1cNsYuG_UIn"
      },
      "execution_count": null,
      "outputs": []
    },
    {
      "cell_type": "code",
      "source": [
        "# Instantiate multiple models\n",
        "X = df.headline\n",
        "y = df.label\n",
        "\n",
        "cv = ShuffleSplit(n_splits=20, test_size=0.2)\n",
        "\n",
        "models = [\n",
        "    MultinomialNB(),\n",
        "    BernoulliNB(),\n",
        "    LogisticRegression(),\n",
        "    SGDClassifier(),\n",
        "    LinearSVC(),\n",
        "    RandomForestClassifier(),\n",
        "    MLPClassifier()\n",
        "]\n",
        "\n",
        "oversample = SMOTE()\n",
        "\n",
        "# Init a dictionary for storing results of each run for each model\n",
        "results = {\n",
        "    model.__class__.__name__: {\n",
        "        'accuracy': [], \n",
        "        'f1_score': [],\n",
        "        'confusion_matrix': []\n",
        "    } for model in models\n",
        "}\n",
        "\n",
        "for train_index, test_index in cv.split(X):\n",
        "    X_train, X_test  = X.iloc[train_index], X.iloc[test_index]\n",
        "    y_train, y_test = y.iloc[train_index], y.iloc[test_index]\n",
        "    \n",
        "    X_train_vect = vect.fit_transform(X_train)    \n",
        "    X_test_vect = vect.transform(X_test)\n",
        "    \n",
        "    X_train_res, y_train_res = oversample.fit_resample(X_train_vect, y_train)\n",
        "    \n",
        "    for model in models:\n",
        "        model.fit(X_train_res, y_train_res)\n",
        "        y_pred = model.predict(X_test_vect)\n",
        "        \n",
        "        acc = accuracy_score(y_test, y_pred)\n",
        "        f1 = f1_score(y_test, y_pred)\n",
        "        cm = confusion_matrix(y_test, y_pred)\n",
        "        \n",
        "        results[model.__class__.__name__]['accuracy'].append(acc)\n",
        "        results[model.__class__.__name__]['f1_score'].append(f1)\n",
        "        results[model.__class__.__name__]['confusion_matrix'].append(cm)"
      ],
      "metadata": {
        "id": "2eWpVztZ_q61"
      },
      "execution_count": 21,
      "outputs": []
    },
    {
      "cell_type": "code",
      "source": [
        "for model, d in results.items():\n",
        "    avg_acc = sum(d['accuracy']) / len(d['accuracy']) * 100\n",
        "    avg_f1 = sum(d['f1_score']) / len(d['f1_score']) * 100\n",
        "    avg_cm = sum(d['confusion_matrix']) / len(d['confusion_matrix'])\n",
        "    \n",
        "    slashes = '-' * 30\n",
        "    \n",
        "    s = f\"\"\"{model}\\n{slashes}\n",
        "        Avg. Accuracy: {avg_acc:.2f}%\n",
        "        Avg. F1 Score: {avg_f1:.2f}\n",
        "        Avg. Confusion Matrix: \n",
        "        \\n{avg_cm}\n",
        "        \"\"\"\n",
        "    print(s)"
      ],
      "metadata": {
        "id": "A5Ry4GfzAAsF"
      },
      "execution_count": null,
      "outputs": []
    },
    {
      "cell_type": "code",
      "source": [
        "fig, axs = plt.subplots(2, 4, figsize=(20,10))\n",
        "axs = axs.ravel()\n",
        "\n",
        "for i, model in enumerate(results.keys()):\n",
        "    avg_acc = sum(results[model]['accuracy']) / len(results[model]['accuracy']) * 100\n",
        "    avg_f1 = sum(results[model]['f1_score']) / len(results[model]['f1_score']) * 100\n",
        "    avg_cm = sum(results[model]['confusion_matrix']) / len(results[model]['confusion_matrix'])\n",
        "\n",
        "    # Plot the confusion matrix\n",
        "    im = axs[i].imshow(avg_cm, interpolation='nearest', cmap=plt.cm.Blues)\n",
        "    axs[i].figure.colorbar(im, ax=axs[i])\n",
        "\n",
        "    # Add text to each subplot\n",
        "    axs[i].set(xticks=np.arange(avg_cm.shape[1]),\n",
        "           yticks=np.arange(avg_cm.shape[0]), \n",
        "           xticklabels=['Negative', 'Positive'], \n",
        "           yticklabels=['Negative', 'Positive'],\n",
        "           title=model,\n",
        "           ylabel='Actual label',\n",
        "           xlabel='Predicted label')\n",
        "\n",
        "    # Loop over data dimensions and create text annotations\n",
        "    for row in range(avg_cm.shape[0]):\n",
        "        for col in range(avg_cm.shape[1]):\n",
        "            axs[i].text(col, row, str(int(avg_cm[row, col])),\n",
        "                    ha=\"center\", va=\"center\", color=\"white\" if avg_cm[row, col] > (avg_cm.max() / 2.) else \"black\")\n",
        "\n",
        "# Set layout properties and show plot\n",
        "plt.tight_layout()\n",
        "plt.show()"
      ],
      "metadata": {
        "id": "MZI7t3r2w6S4"
      },
      "execution_count": null,
      "outputs": []
    },
    {
      "cell_type": "code",
      "source": [
        "X = df.headline\n",
        "y = df.label\n",
        "\n",
        "cv = ShuffleSplit(n_splits=10, test_size=0.2)\n",
        "\n",
        "models = [\n",
        "    MultinomialNB(),\n",
        "    BernoulliNB(),\n",
        "    LogisticRegression(),\n",
        "    SGDClassifier(),\n",
        "    LinearSVC(),\n",
        "    RandomForestClassifier(),\n",
        "    MLPClassifier()\n",
        "]\n",
        "\n",
        "m_names = [m.__class__.__name__ for m in models]\n",
        "\n",
        "models = list(zip(m_names, models))\n",
        "vc = VotingClassifier(estimators=models)\n",
        "\n",
        "oversample = SMOTE()\n",
        "\n",
        "# No need for dictionary now\n",
        "accs = []\n",
        "f1s = []\n",
        "cms = []\n",
        "\n",
        "for train_index, test_index in cv.split(X):\n",
        "    X_train, X_test  = X.iloc[train_index], X.iloc[test_index]\n",
        "    y_train, y_test = y.iloc[train_index], y.iloc[test_index]\n",
        "    \n",
        "    X_train_vect = vect.fit_transform(X_train)    \n",
        "    X_test_vect = vect.transform(X_test)\n",
        "    \n",
        "    X_train_res, y_train_res = oversample.fit_resample(X_train_vect, y_train)\n",
        "    \n",
        "    vc.fit(X_train_res, y_train_res)\n",
        "    \n",
        "    y_pred = vc.predict(X_test_vect)\n",
        "    \n",
        "    accs.append(accuracy_score(y_test, y_pred))\n",
        "    f1s.append(f1_score(y_test, y_pred))\n",
        "    cms.append(confusion_matrix(y_test, y_pred))"
      ],
      "metadata": {
        "id": "toSw554sAiOC"
      },
      "execution_count": 25,
      "outputs": []
    },
    {
      "cell_type": "code",
      "source": [
        "print(\"Voting Classifier\")\n",
        "print(\"-\" * 30)\n",
        "print(\"Avg. Accuracy: {:.2f}%\".format(sum(accs) / len(accs) * 100))\n",
        "print(\"Avg. F1 Score: {:.2f}\".format(sum(f1s) / len(f1s) * 100))\n",
        "print(\"Confusion Matrix:\\n\", sum(cms) / len(cms))"
      ],
      "metadata": {
        "id": "1AZmbDQaA7xN"
      },
      "execution_count": null,
      "outputs": []
    },
    {
      "cell_type": "code",
      "source": [
        "labels = ['Accuracy', 'F1 Score']\n",
        "values = [sum(accs)/len(accs)*100, sum(f1s)/len(f1s)]\n",
        "\n",
        "fig, ax = plt.subplots()\n",
        "ax.bar(labels, values)\n",
        "\n",
        "ax.set_ylim(0, 100)\n",
        "ax.set_ylabel('Percentage')\n",
        "ax.set_title('Performance of Voting Classifier')\n",
        "\n",
        "plt.show()\n",
        "\n",
        "print(\"Confusion Matrix:\\n\", sum(cms) / len(cms))"
      ],
      "metadata": {
        "id": "LK2C6xb9yv1e"
      },
      "execution_count": null,
      "outputs": []
    }
  ]
}