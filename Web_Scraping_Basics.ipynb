{
 "cells": [
  {
   "cell_type": "code",
   "execution_count": 7,
   "id": "e2a9ef81",
   "metadata": {},
   "outputs": [],
   "source": [
    "import csv\n",
    "import selenium\n",
    "from selenium import webdriver\n",
    "from selenium.webdriver.common.by import By\n",
    "from bs4 import BeautifulSoup\n",
    "import requests\n",
    "import csv\n",
    "import io\n",
    "import time\n",
    "\n",
    "# Initialize the web driver\n",
    "driver = webdriver.Firefox()\n",
    "\n",
    "# Define a function to perform the search and scrape the URLs\n",
    "def scrape_urls(keyword):\n",
    "    # Load the Phoenix Craigslist Garage & Moving Sales search page\n",
    "    driver.get(\"https://phoenix.craigslist.org/search/gms?query=\" + keyword)\n",
    "\n",
    "    # Wait for a few seconds before making the next request\n",
    "    time.sleep(3)\n",
    "\n",
    "    # Extract all the URLs that link to individual listings\n",
    "    urls = [i.get_attribute(\"href\") for i in driver.find_elements(\"xpath\",'/html/body/div[1]/main/div[2]/div[4]/ol/li/div/a')]\n",
    "\n",
    "    # Store the keyword and URLs in a dictionary\n",
    "    results = [(keyword, url) for url in urls]\n",
    "\n",
    "    # Return the results\n",
    "    return results\n",
    "\n",
    "# Perform the searches for 'mattress', 'cabinet', and 'wrench'\n",
    "results = []\n",
    "for keyword in ['mattress', 'cabinet', 'wrench']:\n",
    "    results.extend(scrape_urls(keyword))\n",
    "\n",
    "# Write the results to a CSV file\n",
    "with open('keyword_urls.csv', 'w', newline='') as csvfile:\n",
    "    writer = csv.writer(csvfile)\n",
    "    writer.writerow(['Keyword', 'URL'])\n",
    "    writer.writerows(results)\n",
    "\n",
    "# Close the web driver\n",
    "driver.quit()"
   ]
  }
 ],
 "metadata": {
  "kernelspec": {
   "display_name": "Python 3 (ipykernel)",
   "language": "python",
   "name": "python3"
  },
  "language_info": {
   "codemirror_mode": {
    "name": "ipython",
    "version": 3
   },
   "file_extension": ".py",
   "mimetype": "text/x-python",
   "name": "python",
   "nbconvert_exporter": "python",
   "pygments_lexer": "ipython3",
   "version": "3.9.13"
  }
 },
 "nbformat": 4,
 "nbformat_minor": 5
}
