{
  "nbformat": 4,
  "nbformat_minor": 0,
  "metadata": {
    "colab": {
      "provenance": [],
      "include_colab_link": true
    },
    "kernelspec": {
      "name": "python3",
      "display_name": "Python 3"
    },
    "language_info": {
      "name": "python"
    }
  },
  "cells": [
    {
      "cell_type": "markdown",
      "metadata": {
        "id": "view-in-github",
        "colab_type": "text"
      },
      "source": [
        "<a href=\"https://colab.research.google.com/github/bradleymclellan/stc510/blob/main/Python_Transformations_Essentials.ipynb\" target=\"_parent\"><img src=\"https://colab.research.google.com/assets/colab-badge.svg\" alt=\"Open In Colab\"/></a>"
      ]
    },
    {
      "cell_type": "markdown",
      "source": [
        "This script transforms data on two datasets: crime data from the Phoenix Open Data portal, and weather data from a local file. The crime data is first filtered to remove unnecessary columns, and then the date column is reformatted to match the local weather dataset. The two datasets are merged and filtered to include only data from 2022 onwards.\n",
        "\n",
        "Next, several plots are created to represent the merged data visually. A bar plot shows the number of crime occurrences based on temperature ranges. A treemap is used to show the number of crime occurrences within each temperature range. A scatter plot is used to show the correlation between violent and non-violent crimes and temperature. Another scatter plot is used to show the grid locations of crimes and their respective temperatures. Finally, a distribution plot is used to show the temperature distributions of different types of crimes.\n",
        "\n",
        "Finally, the merged data is saved to a CSV file to be used in further analysis."
      ],
      "metadata": {
        "id": "i68ASBT0tLb4"
      }
    },
    {
      "cell_type": "code",
      "execution_count": null,
      "metadata": {
        "id": "i1OMW-zQQ_3W"
      },
      "outputs": [],
      "source": [
        "import pandas as pd\n",
        "import requests\n",
        "import io\n",
        "import matplotlib.pyplot as plt\n",
        "from plotly.subplots import make_subplots\n",
        "import plotly.figure_factory as ff\n",
        "import plotly.graph_objects as go\n",
        "import plotly.express as px\n",
        "import seaborn as sns\n",
        "import numpy as np\n",
        "from datetime import datetime"
      ]
    },
    {
      "cell_type": "code",
      "source": [
        "# Load Crime data\n",
        "url_crime = 'https://www.phoenixopendata.com/dataset/cc08aace-9ca9-467f-b6c1-f0879ab1a358/resource/0ce3411a-2fc6-4302-a33f-167f68608a20/download/crimestat.csv'\n",
        "req = requests.get(url_crime)\n",
        "crime_df = pd.read_csv(io.StringIO(req.text))\n",
        "crime_df.drop(columns=['OCCURRED TO', '100 BLOCK ADDR'], inplace=True)"
      ],
      "metadata": {
        "id": "MnKA7BbHRVzs"
      },
      "execution_count": null,
      "outputs": []
    },
    {
      "cell_type": "code",
      "source": [
        "# Load weather data\n",
        "weather_df = pd.read_csv('/content/sample_data/crime_weather.csv')"
      ],
      "metadata": {
        "id": "FBb_AciIRcHn"
      },
      "execution_count": null,
      "outputs": []
    },
    {
      "cell_type": "code",
      "source": [
        "# Reformat date column to datetime \n",
        "crime_df[\"OCCURRED ON\"] = (crime_df[\"OCCURRED ON\"].astype(str).str.split(\" \").str[0])\n",
        "crime_df[\"OCCURRED ON\"] = pd.to_datetime(crime_df[\"OCCURRED ON\"],format=\"%m/%d/%Y\",errors=\"coerce\")\n",
        "crime_df[\"OCCURRED ON\"] = crime_df[\"OCCURRED ON\"].dt.strftime(\"%Y-%m-%d\")"
      ],
      "metadata": {
        "id": "sFPGlzWtRqbQ"
      },
      "execution_count": null,
      "outputs": []
    },
    {
      "cell_type": "code",
      "source": [
        "# Merge the crime and weather data and filter the data to the year 2022 forward\n",
        "merged_df = pd.merge(crime_df, weather_df, left_on='OCCURRED ON', right_on='Date', how='left')\n",
        "merged_df = merged_df[(merged_df['OCCURRED ON'] >= '2022-01-01') & (merged_df['OCCURRED ON'] <= '2023-02-06')]"
      ],
      "metadata": {
        "id": "6pxoOPQxTME3"
      },
      "execution_count": null,
      "outputs": []
    },
    {
      "cell_type": "code",
      "source": [
        "# Bar plot of crime occurrences based on temperature\n",
        "bins = [30,40,50,60,70,80,90,100]\n",
        "labels = ['< 40', '40-50', '50-60', '60-70', '70-80', '80-90', '> 90']\n",
        "merged_df['Temperatures'] = pd.cut(merged_df['Temp Max (degrees F)'], bins=bins, labels=labels)\n",
        "temp_crime = merged_df.groupby(['Temperatures', 'UCR CRIME CATEGORY']).size().reset_index(name='counts')\n",
        "fig = px.bar(temp_crime, x='UCR CRIME CATEGORY', y='counts', color='Temperatures', barmode='group', height=600)\n",
        "fig.show()"
      ],
      "metadata": {
        "id": "cxwvmq9nfKKh"
      },
      "execution_count": null,
      "outputs": []
    },
    {
      "cell_type": "code",
      "source": [
        "# Treemap of crime ocurrances based on temperature \n",
        "crime_counts = merged_df.groupby(['UCR CRIME CATEGORY', 'Temp Max (degrees F)']).size().reset_index(name='counts') \n",
        "fig = px.treemap(crime_counts, path=['UCR CRIME CATEGORY'], values='counts', color='Temp Max (degrees F)', color_continuous_scale=\"reds\")\n",
        "fig.show()"
      ],
      "metadata": {
        "id": "1ARLaOeibfT9"
      },
      "execution_count": null,
      "outputs": []
    },
    {
      "cell_type": "code",
      "source": [
        "# Grouping crimes by violent and non-violent and the correlation with temperature\n",
        "crime_cat = {'VIOLENT': ['ROBBERY','ASSAULT','HOMICIDE'],\n",
        "'NON-VIOLENT': ['LARCENY/THEFT','BURGLARY','VEHICLE THEFT','ARSON']}\n",
        "merged_df['Violence'] = np.select([merged_df['UCR CRIME CATEGORY'].isin(crime_cat['VIOLENT'])],['VIOLENT'],'NON-VIOLENT')\n",
        "violence_df = merged_df.groupby(['Violence','Temp Max (degrees F)']).size().reset_index(name='counts')\n",
        "fig = px.scatter(violence_df, x='Temp Max (degrees F)', y='counts', color='Violence', log_y=True)\n",
        "fig.show()"
      ],
      "metadata": {
        "id": "LiaSPJzHmkiU"
      },
      "execution_count": null,
      "outputs": []
    },
    {
      "cell_type": "code",
      "source": [
        "# Scatter plot of grid location and crimes with color hue for temperature\n",
        "fig = px.scatter(merged_df, x='GRID', y='UCR CRIME CATEGORY', color='Temp Max (degrees F)',size='Temp Max (degrees F)', height=600)\n",
        "fig.show()"
      ],
      "metadata": {
        "id": "Nrl-ynndgxeV"
      },
      "execution_count": null,
      "outputs": []
    },
    {
      "cell_type": "code",
      "source": [
        "# Distribution Plot of temperature and types of crime\n",
        "g = sns.FacetGrid(merged_df, col='UCR CRIME CATEGORY')\n",
        "g = g.map(sns.histplot, \"Temp Max (degrees F)\")\n",
        "plt.show()"
      ],
      "metadata": {
        "id": "LLYTwk72hFlD"
      },
      "execution_count": null,
      "outputs": []
    },
    {
      "cell_type": "code",
      "source": [
        "# Save merged dataframe to csv\n",
        "merged_df.to_csv('/content/sample_data/merged_df.csv', index=False)"
      ],
      "metadata": {
        "id": "tZbu_JuhiP09"
      },
      "execution_count": null,
      "outputs": []
    }
  ]
}