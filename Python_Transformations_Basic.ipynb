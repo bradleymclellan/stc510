{
  "nbformat": 4,
  "nbformat_minor": 0,
  "metadata": {
    "colab": {
      "provenance": [],
      "authorship_tag": "ABX9TyPt9sillMlVkyqV9eNyYqx0",
      "include_colab_link": true
    },
    "kernelspec": {
      "name": "python3",
      "display_name": "Python 3"
    },
    "language_info": {
      "name": "python"
    }
  },
  "cells": [
    {
      "cell_type": "markdown",
      "metadata": {
        "id": "view-in-github",
        "colab_type": "text"
      },
      "source": [
        "<a href=\"https://colab.research.google.com/github/bradleymclellan/stc510/blob/main/Python_Transformations_Basic.ipynb\" target=\"_parent\"><img src=\"https://colab.research.google.com/assets/colab-badge.svg\" alt=\"Open In Colab\"/></a>"
      ]
    },
    {
      "cell_type": "markdown",
      "source": [
        "The following script analyzes a dataset containing crime incidents in Phoenix, AZ. It begins by importing the required libraries, such as pandas, seaborn, and matplotlib. Afterward, the script downloads and loads the crime data from an URL into a panda data frame.\n",
        "\n",
        "Next, the script explores the data from different perspectives by creating a data frame to contain the UCR Crime Categories and the number of crimes associated with each category. It then groups the data by the number of crimes that occurred since 2015 and plots the trending year-over-year crime data using a line plot.\n",
        "\n",
        "The script then defines lists of violent and non-violent crime categories. First, it creates a new column in the dataframe to categorize each crime incident as either violent or non-violent. It then groups the crime incidents by crime type and counts the number of incidents in each group, plotting the results using a color-coded bar chart.\n",
        "\n",
        "Next, the script converts the 'OCCURRED ON' column to datetime format, filters the data only to include the past 30 days, groups the data by crimes by the premise, and counts the number of crimes in each group. It then plots the results using a bar chart.\n",
        "\n",
        "The script goes on to group the data by crime type that occurred in the last 30 days, count the number of incidents, and plot the results using a bar chart. Then, the script groups the data by zip code to see the prevalence of crime by location. Finally, it sorts the grouped data by the count of crimes by zip code and plots the highest crime areas using a bar chart.\n"
      ],
      "metadata": {
        "id": "xeCv3WB3BIKe"
      }
    },
    {
      "cell_type": "code",
      "execution_count": 218,
      "metadata": {
        "id": "gJW6chtu-Bt3"
      },
      "outputs": [],
      "source": [
        "# Import the required libraries\n",
        "import pandas as pd\n",
        "import matplotlib.pyplot as plt\n",
        "import plotly.graph_objects as go\n",
        "from plotly.subplots import make_subplots\n",
        "from datetime import datetime, timedelta\n",
        "import datetime as dt\n",
        "import seaborn as sns\n",
        "import urllib.request\n",
        "import requests\n",
        "import io"
      ]
    },
    {
      "cell_type": "code",
      "source": [
        "# Load the crime data from the URL into a pandas dataframe\n",
        "url = 'https://www.phoenixopendata.com/dataset/cc08aace-9ca9-467f-b6c1-f0879ab1a358/resource/0ce3411a-2fc6-4302-a33f-167f68608a20/download/crimestat.csv'\n",
        "response = requests.get(url)\n",
        "crime_data = pd.read_csv(io.StringIO(response.text))"
      ],
      "metadata": {
        "colab": {
          "base_uri": "https://localhost:8080/"
        },
        "id": "5al1YZtB-gDi",
        "outputId": "31f41c78-6b5f-4ab5-fdac-514134de63e2"
      },
      "execution_count": 219,
      "outputs": [
        {
          "output_type": "stream",
          "name": "stderr",
          "text": [
            "/usr/local/lib/python3.8/dist-packages/IPython/core/interactiveshell.py:3326: DtypeWarning:\n",
            "\n",
            "Columns (0) have mixed types.Specify dtype option on import or set low_memory=False.\n",
            "\n"
          ]
        }
      ]
    },
    {
      "cell_type": "code",
      "source": [
        "# Create a dataframe that contains the UCR Crime Categories and the number of crimes associated with each category\n",
        "Number_crimes = crime_data['UCR CRIME CATEGORY'].value_counts()\n",
        "values = Number_crimes.values\n",
        "categories = pd.DataFrame(data=Number_crimes.index, columns=[\"UCR CRIME CATEGORY\"])\n",
        "categories['values'] = values"
      ],
      "metadata": {
        "id": "a01Aehc-PIEb"
      },
      "execution_count": 220,
      "outputs": []
    },
    {
      "cell_type": "code",
      "source": [
        "# Group the data by number of crimes ocurring since 2015 fowards\n",
        "crime_data['OCCURRED ON'] = pd.to_datetime(crime_data['OCCURRED ON'])\n",
        "crime_by_date = crime_data.groupby(crime_data['OCCURRED ON'].dt.date).size().reset_index(name='counts')\n",
        "crime_by_date.set_index('OCCURRED ON', inplace=True)\n",
        "\n",
        "# Plot the trending year over year crime data \n",
        "fig, ax = plt.subplots(figsize=(15,8))\n",
        "crime_by_date.plot(kind='line', ax=ax)\n",
        "ax.set(xlabel='Date', ylabel='Number of Crimes', title='Number of Crimes Over Time')\n",
        "plt.show()"
      ],
      "metadata": {
        "id": "SSlBU0AGBX4O"
      },
      "execution_count": null,
      "outputs": []
    },
    {
      "cell_type": "code",
      "source": [
        "# Define lists of violent and non-violent crime categories\n",
        "violent_crimes = ['HOMICIDE', 'RAPE', 'ROBBERY', 'AGGRAVATED ASSAULT']\n",
        "non_violent_crimes = ['BURGLARY', 'THEFT', 'MOTOR VEHICLE THEFT', 'ARSON', 'DRUG OFFENSE']\n",
        "\n",
        "# Create a new column in the dataframe to categorize each crime incident as violent or non-violent\n",
        "crime_data['CRIME TYPE'] = 'VIOLENT'\n",
        "crime_data.loc[crime_data['UCR CRIME CATEGORY'].isin(non_violent_crimes), 'CRIME TYPE'] = 'NON-VIOLENT'\n",
        "\n",
        "# Group the crime incidents by crime type and count the number of incidents in each group\n",
        "crime_grouped = crime_data.groupby('CRIME TYPE').count()['INC NUMBER']\n",
        "\n",
        "# Plot the crime incidents grouped by crime type using a color coded bar chart\n",
        "fig = go.Figure(data=[go.Bar(x=crime_grouped.index, y=crime_grouped.values, marker_color=['red', 'blue'])])\n",
        "fig.update_layout(title_text='Non-Violent vs. Violent Crime Incidents Over Time')\n",
        "fig.show()"
      ],
      "metadata": {
        "id": "4yDmN_9zTZyq"
      },
      "execution_count": null,
      "outputs": []
    },
    {
      "cell_type": "code",
      "source": [
        "# Convert the 'OCCURRED ON' column to datetime format\n",
        "crime_data['OCCURRED ON'] = pd.to_datetime(crime_data['OCCURRED ON'])"
      ],
      "metadata": {
        "id": "fBkauzS7t4v9"
      },
      "execution_count": 223,
      "outputs": []
    },
    {
      "cell_type": "code",
      "source": [
        "# Filter data to only include the past 30 days\n",
        "recent_crimes = crime_data[crime_data['OCCURRED ON'] >= (dt.datetime.now() - dt.timedelta(days=30))]"
      ],
      "metadata": {
        "id": "KpOKT76lpi7V"
      },
      "execution_count": 224,
      "outputs": []
    },
    {
      "cell_type": "code",
      "source": [
        "# Group the data by crimes by premise and count the number of crimes in each group\n",
        "fig, ax = plt.subplots(figsize=(20, 10))\n",
        "premise_group = recent_crimes.groupby('PREMISE TYPE')['INC NUMBER'].count().reset_index()\n",
        "premise_group = premise_group.sort_values(by='INC NUMBER', ascending=False)\n",
        "\n",
        "# Plot the crimes grouped by premise type\n",
        "ax.bar(premise_group['PREMISE TYPE'], premise_group['INC NUMBER'], color='red')\n",
        "ax.set_xlabel('Premise Type')\n",
        "ax.set_ylabel('Number of Crimes')\n",
        "ax.set_title('Crimes by Premise in the past 30 days')\n",
        "plt.xticks(rotation=90)\n",
        "plt.tight_layout()\n",
        "plt.show()"
      ],
      "metadata": {
        "id": "xWYsBbLypJYm"
      },
      "execution_count": null,
      "outputs": []
    },
    {
      "cell_type": "code",
      "source": [
        "# Group the data by crime type and count in the last 30 days\n",
        "crime_type = recent_crimes.groupby('UCR CRIME CATEGORY').size().reset_index(name='counts')\n",
        "crime_type = crime_type.sort_values(by='counts', ascending=False)\n",
        "crime_type = crime_type.head(10)\n",
        "crime_type.plot.bar(x='UCR CRIME CATEGORY', y='counts', rot=90)\n",
        "\n",
        "# Plot the data using a bar chart\n",
        "plt.title('Top Crime Types in the past 30 days')\n",
        "plt.xlabel('Crime Type')\n",
        "plt.ylabel('Number of Crimes')\n",
        "plt.show()"
      ],
      "metadata": {
        "id": "HSUfqT49trGR"
      },
      "execution_count": null,
      "outputs": []
    },
    {
      "cell_type": "code",
      "source": [
        "# Group the data by zip code and crime count in the last 30 days\n",
        "crime_trends = recent_crimes.groupby(\"ZIP\").size().reset_index(name='counts')\n",
        "\n",
        "# Sort the grouped data by the count of crimes in each zip code\n",
        "crime_trends.sort_values(by='counts', ascending=False, inplace=True)\n",
        "\n",
        "# Plot the data using a bar chart\n",
        "fig, ax = plt.subplots(figsize=(15,8))\n",
        "ax.bar(crime_trends['ZIP'], crime_trends['counts'])\n",
        "ax.set_title('Crime Rates by Zip Code in the Past 30 Days')\n",
        "ax.set_xlabel('Zip Code')\n",
        "ax.set_ylabel('Number of Crimes')\n",
        "plt.show()"
      ],
      "metadata": {
        "id": "pdznn9jABBQA"
      },
      "execution_count": null,
      "outputs": []
    },
    {
      "cell_type": "code",
      "source": [
        "# Group the data by zip code to see which zip codes have the highest number of crimes.\n",
        "crime_by_zip = recent_crimes.groupby('ZIP').size().reset_index(name='counts')\n",
        "crime_by_zip.sort_values(by='counts', ascending=False, inplace=True)\n",
        "\n",
        "# Plot the data using a bar chart\n",
        "fig, ax = plt.subplots(figsize=(15,8))\n",
        "sns.barplot(x='ZIP', y='counts', data=crime_by_zip.head(10), palette='Blues_d', ax=ax)\n",
        "ax.set_title('Top Crime Rates by Zip Code in the Past 30 Days')\n",
        "ax.set_xlabel('Zip Code')\n",
        "ax.set_ylabel('Number of Crimes')\n",
        "plt.show()"
      ],
      "metadata": {
        "id": "GgYAtNTP-57h"
      },
      "execution_count": null,
      "outputs": []
    }
  ]
}