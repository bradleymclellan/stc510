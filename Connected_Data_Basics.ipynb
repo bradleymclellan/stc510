{
  "nbformat": 4,
  "nbformat_minor": 0,
  "metadata": {
    "colab": {
      "provenance": [],
      "authorship_tag": "ABX9TyNM15jOGhkxOoUieJHWoYYY",
      "include_colab_link": true
    },
    "kernelspec": {
      "name": "python3",
      "display_name": "Python 3"
    },
    "language_info": {
      "name": "python"
    }
  },
  "cells": [
    {
      "cell_type": "markdown",
      "metadata": {
        "id": "view-in-github",
        "colab_type": "text"
      },
      "source": [
        "<a href=\"https://colab.research.google.com/github/bradleymclellan/stc510/blob/main/Connected_Data_Basics.ipynb\" target=\"_parent\"><img src=\"https://colab.research.google.com/assets/colab-badge.svg\" alt=\"Open In Colab\"/></a>"
      ]
    },
    {
      "cell_type": "markdown",
      "source": [
        "The following script analyzes and graphically illuminates the relations between members of a Czech corruption scandal, including the impact of removing the weakest node on the network's structure. The first graph reflects the community structure of the network. After identifying the node with the highest betweenness centrality, a second graph highlights the location of the weakest link in red. In contrast, the third graph shows the connectedness of the network after removing the weakest link.\n",
        "\tBefore removing the weakest link, I observed a covert social network with some nodes more closely connected than others and many edges with large spans connecting distant network parts. After removing the weakest node, I observed a change in the network structure, with some nodes becoming disconnected from the rest of the network. Given that the graph remained connected after removing the weakest link, we can assume that the network is still relatively robust and will continue to function effectively. If, on the other hand, the graph became disconnected, it means that removing the weakest link may have caused severe damage to the network, compromising its function."
      ],
      "metadata": {
        "id": "wqa0817hNPWf"
      }
    },
    {
      "cell_type": "code",
      "source": [
        "import csv\n",
        "import networkx as nx\n",
        "from networkx.drawing.nx_agraph import graphviz_layout\n",
        "import matplotlib.pyplot as plt"
      ],
      "metadata": {
        "id": "A7pBPC9V28t7"
      },
      "execution_count": null,
      "outputs": []
    },
    {
      "cell_type": "code",
      "source": [
        "# Read in the data\n",
        "with open('CZECH_CORRUPTION.csv', 'r') as f:\n",
        "    reader = csv.reader(f)\n",
        "    data = list(reader)"
      ],
      "metadata": {
        "id": "wJxe8rtk-ayk"
      },
      "execution_count": 244,
      "outputs": []
    },
    {
      "cell_type": "code",
      "source": [
        "# Create a graph\n",
        "G = nx.DiGraph()"
      ],
      "metadata": {
        "id": "F7NnPdKeedQG"
      },
      "execution_count": 252,
      "outputs": []
    },
    {
      "cell_type": "code",
      "source": [
        "# Add nodes\n",
        "G.add_nodes_from(data[0][1:])\n",
        "# Add edges\n",
        "for row in data[1:]:\n",
        "    for i, col in enumerate(row[1:]):\n",
        "        if col != '0':\n",
        "            G.add_edge(row[0], data[0][i+1], weight=int(col))"
      ],
      "metadata": {
        "id": "6CC2z4StMnn9"
      },
      "execution_count": 253,
      "outputs": []
    },
    {
      "cell_type": "code",
      "source": [
        "# Create a shell layout\n",
        "pos = nx.shell_layout(G)\n",
        "plt.figure(figsize=(10, 10))\n",
        "# Draw the graph with node positions\n",
        "nx.draw(G, pos, with_labels=True, node_color='lightblue', edge_color='gray', width=1, font_size=8)\n",
        "# Draw the node labels\n",
        "nx.draw_networkx_labels(G, pos, font_size=8)\n",
        "# Draw the edge labels\n",
        "edge_labels = nx.get_edge_attributes(G, 'weight')\n",
        "nx.draw_networkx_edge_labels(G, pos, edge_labels=edge_labels, font_size=8)\n",
        "# Save the graph\n",
        "plt.savefig('CZECH_CORRUPTION.png')"
      ],
      "metadata": {
        "id": "X_vs5CvHBsqg"
      },
      "execution_count": null,
      "outputs": []
    },
    {
      "cell_type": "code",
      "source": [
        "# Find the node with the highest betweenness centrality\n",
        "betweenness = nx.betweenness_centrality(G)\n",
        "max_betweenness = max(betweenness, key=betweenness.get)\n",
        "print('The node with the highest betweenness centrality is', max_betweenness)"
      ],
      "metadata": {
        "id": "yUtdCFxfirit"
      },
      "execution_count": null,
      "outputs": []
    },
    {
      "cell_type": "code",
      "source": [
        "# Redraw the same graph\n",
        "pos = nx.shell_layout(G)\n",
        "plt.figure(figsize=(10, 10))\n",
        "nx.draw(G, pos, with_labels=True, node_color='lightblue', edge_color='gray', width=1, font_size=8)\n",
        "nx.draw_networkx_labels(G, pos, font_size=8)\n",
        "nx.draw_networkx_edge_labels(G, pos, edge_labels=edge_labels, font_size=8)\n",
        "# Identify node with the highest betweenness centrality in the graph\n",
        "nx.draw_networkx_nodes(G, pos, nodelist=[max_betweenness], node_color='red')\n",
        "# Save the graph\n",
        "plt.savefig('CZECH_CORRUPTION_highest_betweenness.png')"
      ],
      "metadata": {
        "id": "voEu8nrhi0LE"
      },
      "execution_count": null,
      "outputs": []
    },
    {
      "cell_type": "code",
      "source": [
        "# Remove the node with the highest betweenness centrality\n",
        "G.remove_node(max_betweenness)"
      ],
      "metadata": {
        "id": "95WRICxCixXY"
      },
      "execution_count": 250,
      "outputs": []
    },
    {
      "cell_type": "code",
      "source": [
        "# Create a shell layout\n",
        "pos = nx.shell_layout(G)\n",
        "plt.figure(figsize=(10, 10))\n",
        "# Draw the graph with node positions\n",
        "nx.draw(G, pos, with_labels=True, node_color='lightblue', edge_color='gray', width=1, font_size=8)\n",
        "# Draw the node labels\n",
        "nx.draw_networkx_labels(G, pos, font_size=8)\n",
        "# Draw the edge labels\n",
        "edge_labels = nx.get_edge_attributes(G, 'weight')\n",
        "nx.draw_networkx_edge_labels(G, pos, edge_labels=edge_labels, font_size=8)\n",
        "# Save the graph\n",
        "plt.savefig('CZECH_CORRUPTION_removed.png')"
      ],
      "metadata": {
        "id": "kpkPTw_aejbv"
      },
      "execution_count": null,
      "outputs": []
    }
  ]
}